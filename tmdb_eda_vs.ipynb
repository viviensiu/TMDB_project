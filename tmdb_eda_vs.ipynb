{
 "cells": [
  {
   "cell_type": "markdown",
   "id": "bfc0430b-2197-4461-a605-6bf7d6d89f36",
   "metadata": {},
   "source": [
    "## Problem Description 🎞️\n",
    "You're a data scientist working at Buzzfeed, one of your colleagues at the entertainment news team approached your boss as she is writing an article about the **movie evolution across the eras**.\n",
    "\n",
    "👩‍💻 : Hey Alex, here's a TMDB movie dataset, could you dig up some interesting trends about movie evolution across the eras for me? Thanks. By the way, do you think we could discuss those insights tomorrow morning?\n",
    "\n",
    "🧔🏻‍♂️ : No problem at all, I'll get Vivien to take a look for you.\n",
    "\n",
    "**Challenged accepted!**\n",
    "\n",
    "Take a deep dive into this dataset and come back with some findings for Alex 🧔🏻‍♂️ in the following format:\n",
    "* 3 Python visualisations showcasing insights drawn from the data.\n",
    "* 2 keypoints drawn from the data - explicitly stated in Markdown format and explained by your code & findings. What did you find most interesting? Or most surprising? Why is that?\n",
    "* Select 2 movies on which to provide a more in-depth single observation analysis. Why have you selected these two? What's interesting about them? How do they compare to similar movies?"
   ]
  },
  {
   "cell_type": "markdown",
   "id": "eb87958e-bfcb-4ed5-a1b5-7bf56094e117",
   "metadata": {
    "jp-MarkdownHeadingCollapsed": true
   },
   "source": [
    "## Background 🕰️\n",
    " The movie eras are defined nicely in this article [Movie Eras - History of Cinema and the First Film](https://www.historyoffilm.net/movie-eras/history-of-cinema/)"
   ]
  },
  {
   "cell_type": "markdown",
   "id": "cd071a70-9f34-4da2-9924-a7a4e73f7556",
   "metadata": {
    "jp-MarkdownHeadingCollapsed": true
   },
   "source": [
    "## Goal 🍿\n",
    "\n",
    "Present insights from the TMDB movie dataset using Exploratory Data Analysis.\n",
    "* **How movie genre popularity changed throughout the eras.**\n",
    "    * Number of genres.\n",
    "    * Most popular genres.\n",
    "* **Movie statistics throughout the eras**, e.g.\n",
    "    * Budget.\n",
    "    * Revenue.\n",
    "    * Runtime.\n",
    "* **Compare the 2 Highest Grossing movies.**\n"
   ]
  },
  {
   "cell_type": "markdown",
   "id": "7f4cfe54-0747-496c-bed3-58a0a58a1a16",
   "metadata": {},
   "source": [
    "## Dataset 💿\n",
    "* Derived and modified from [Kaggle TMDB 5000 Movie Dataset](https://www.kaggle.com/datasets/tmdb/tmdb-movie-metadata?select=tmdb_5000_movies.csv)"
   ]
  },
  {
   "cell_type": "markdown",
   "id": "43b174cc-802d-432a-be5c-b7c7c8462b86",
   "metadata": {
    "jp-MarkdownHeadingCollapsed": true
   },
   "source": [
    "## Methodology 🧰\n",
    "1. Data preparation\n",
    "    * Examine data.\n",
    "    * Data cleaning and transformation.\n",
    "    * Feature engineering. \n",
    "2. Exploratory Data Analysis"
   ]
  },
  {
   "cell_type": "code",
   "execution_count": 1,
   "id": "137193db-ea7f-416a-bc6d-5ea20220679b",
   "metadata": {
    "jupyter": {
     "source_hidden": true
    }
   },
   "outputs": [],
   "source": [
    "import pandas as pd\n",
    "import numpy as np\n",
    "import matplotlib.pyplot as plt\n",
    "import seaborn as sns\n",
    "import ast\n",
    "import warnings"
   ]
  },
  {
   "cell_type": "code",
   "execution_count": 2,
   "id": "bebac82d-98a2-4368-9118-152816993955",
   "metadata": {
    "jupyter": {
     "source_hidden": true
    }
   },
   "outputs": [],
   "source": [
    "warnings.filterwarnings(\"ignore\")\n",
    "pd.set_option('display.max_column', None)\n",
    "pd.set_option('display.max_colwidth', None)"
   ]
  },
  {
   "cell_type": "code",
   "execution_count": 3,
   "id": "eb3e7980-0334-45da-9167-167de2cdf4a9",
   "metadata": {
    "jupyter": {
     "source_hidden": true
    }
   },
   "outputs": [],
   "source": [
    "path = \"./data/TMDB_movies.csv\""
   ]
  },
  {
   "cell_type": "code",
   "execution_count": 4,
   "id": "7e3c41e3-29c5-4b41-860f-0f139a507e78",
   "metadata": {
    "jupyter": {
     "source_hidden": true
    }
   },
   "outputs": [],
   "source": [
    "df = pd.read_csv(path)"
   ]
  },
  {
   "cell_type": "markdown",
   "id": "ea24480f-0f01-4b61-8ce2-96ecdf7f1eca",
   "metadata": {
    "jp-MarkdownHeadingCollapsed": true
   },
   "source": [
    "## 1. Data Preparation 🧹"
   ]
  },
  {
   "cell_type": "markdown",
   "id": "2ec273a8-273f-41e5-845b-288e4bfa4f34",
   "metadata": {
    "jp-MarkdownHeadingCollapsed": true
   },
   "source": [
    "### 1.1 Examine Data\n",
    "A first look at the data to:\n",
    "* Understand the record format.\n",
    "* Identify features to clean/drop.\n",
    "* Identify features to engineer."
   ]
  },
  {
   "cell_type": "code",
   "execution_count": 5,
   "id": "a0da7a9b-b449-43a2-a7ea-e5ca886d18e7",
   "metadata": {
    "jupyter": {
     "source_hidden": true
    }
   },
   "outputs": [
    {
     "data": {
      "text/html": [
       "<div>\n",
       "<style scoped>\n",
       "    .dataframe tbody tr th:only-of-type {\n",
       "        vertical-align: middle;\n",
       "    }\n",
       "\n",
       "    .dataframe tbody tr th {\n",
       "        vertical-align: top;\n",
       "    }\n",
       "\n",
       "    .dataframe thead th {\n",
       "        text-align: right;\n",
       "    }\n",
       "</style>\n",
       "<table border=\"1\" class=\"dataframe\">\n",
       "  <thead>\n",
       "    <tr style=\"text-align: right;\">\n",
       "      <th></th>\n",
       "      <th>budget</th>\n",
       "      <th>genres</th>\n",
       "      <th>homepage</th>\n",
       "      <th>id</th>\n",
       "      <th>keywords</th>\n",
       "      <th>original_language</th>\n",
       "      <th>original_title</th>\n",
       "      <th>overview</th>\n",
       "      <th>popularity</th>\n",
       "      <th>production_companies</th>\n",
       "      <th>production_countries</th>\n",
       "      <th>release_date</th>\n",
       "      <th>revenue</th>\n",
       "      <th>runtime</th>\n",
       "      <th>spoken_languages</th>\n",
       "      <th>status</th>\n",
       "      <th>tagline</th>\n",
       "      <th>title</th>\n",
       "      <th>vote_average</th>\n",
       "      <th>vote_count</th>\n",
       "    </tr>\n",
       "  </thead>\n",
       "  <tbody>\n",
       "    <tr>\n",
       "      <th>4801</th>\n",
       "      <td>0</td>\n",
       "      <td>[]</td>\n",
       "      <td>http://shanghaicalling.com/</td>\n",
       "      <td>126186</td>\n",
       "      <td>[]</td>\n",
       "      <td>en</td>\n",
       "      <td>Shanghai Calling</td>\n",
       "      <td>When ambitious New York attorney Sam is sent to Shanghai on assignment, he immediately stumbles into a legal mess that could end his career. With the help of a beautiful relocation specialist, a well-connected old-timer, a clever journalist, and a street-smart legal assistant, Sam might just save his job, find romance, and learn to appreciate the beauty and wonders of Shanghai. Written by Anonymous  (IMDB.com).</td>\n",
       "      <td>0.857008</td>\n",
       "      <td>[]</td>\n",
       "      <td>[{\"iso_3166_1\": \"US\", \"name\": \"United States of America\"}, {\"iso_3166_1\": \"CN\", \"name\": \"China\"}]</td>\n",
       "      <td>2012-05-03</td>\n",
       "      <td>0</td>\n",
       "      <td>98.0</td>\n",
       "      <td>[{\"iso_639_1\": \"en\", \"name\": \"English\"}]</td>\n",
       "      <td>Released</td>\n",
       "      <td>A New Yorker in Shanghai</td>\n",
       "      <td>Shanghai Calling</td>\n",
       "      <td>5.7</td>\n",
       "      <td>7</td>\n",
       "    </tr>\n",
       "    <tr>\n",
       "      <th>4802</th>\n",
       "      <td>0</td>\n",
       "      <td>[{\"id\": 99, \"name\": \"Documentary\"}]</td>\n",
       "      <td>NaN</td>\n",
       "      <td>25975</td>\n",
       "      <td>[{\"id\": 1523, \"name\": \"obsession\"}, {\"id\": 2249, \"name\": \"camcorder\"}, {\"id\": 9986, \"name\": \"crush\"}, {\"id\": 11223, \"name\": \"dream girl\"}]</td>\n",
       "      <td>en</td>\n",
       "      <td>My Date with Drew</td>\n",
       "      <td>Ever since the second grade when he first saw her in E.T. The Extraterrestrial, Brian Herzlinger has had a crush on Drew Barrymore. Now, 20 years later he's decided to try to fulfill his lifelong dream by asking her for a date. There's one small problem: She's Drew Barrymore and he's, well, Brian Herzlinger, a broke 27-year-old aspiring filmmaker from New Jersey.</td>\n",
       "      <td>1.929883</td>\n",
       "      <td>[{\"name\": \"rusty bear entertainment\", \"id\": 87986}, {\"name\": \"lucky crow films\", \"id\": 87987}]</td>\n",
       "      <td>[{\"iso_3166_1\": \"US\", \"name\": \"United States of America\"}]</td>\n",
       "      <td>2005-08-05</td>\n",
       "      <td>0</td>\n",
       "      <td>90.0</td>\n",
       "      <td>[{\"iso_639_1\": \"en\", \"name\": \"English\"}]</td>\n",
       "      <td>Released</td>\n",
       "      <td>NaN</td>\n",
       "      <td>My Date with Drew</td>\n",
       "      <td>6.3</td>\n",
       "      <td>16</td>\n",
       "    </tr>\n",
       "  </tbody>\n",
       "</table>\n",
       "</div>"
      ],
      "text/plain": [
       "      budget                               genres  \\\n",
       "4801       0                                   []   \n",
       "4802       0  [{\"id\": 99, \"name\": \"Documentary\"}]   \n",
       "\n",
       "                         homepage      id  \\\n",
       "4801  http://shanghaicalling.com/  126186   \n",
       "4802                          NaN   25975   \n",
       "\n",
       "                                                                                                                                        keywords  \\\n",
       "4801                                                                                                                                          []   \n",
       "4802  [{\"id\": 1523, \"name\": \"obsession\"}, {\"id\": 2249, \"name\": \"camcorder\"}, {\"id\": 9986, \"name\": \"crush\"}, {\"id\": 11223, \"name\": \"dream girl\"}]   \n",
       "\n",
       "     original_language     original_title  \\\n",
       "4801                en   Shanghai Calling   \n",
       "4802                en  My Date with Drew   \n",
       "\n",
       "                                                                                                                                                                                                                                                                                                                                                                                                                            overview  \\\n",
       "4801  When ambitious New York attorney Sam is sent to Shanghai on assignment, he immediately stumbles into a legal mess that could end his career. With the help of a beautiful relocation specialist, a well-connected old-timer, a clever journalist, and a street-smart legal assistant, Sam might just save his job, find romance, and learn to appreciate the beauty and wonders of Shanghai. Written by Anonymous  (IMDB.com).   \n",
       "4802                                                   Ever since the second grade when he first saw her in E.T. The Extraterrestrial, Brian Herzlinger has had a crush on Drew Barrymore. Now, 20 years later he's decided to try to fulfill his lifelong dream by asking her for a date. There's one small problem: She's Drew Barrymore and he's, well, Brian Herzlinger, a broke 27-year-old aspiring filmmaker from New Jersey.   \n",
       "\n",
       "      popularity  \\\n",
       "4801    0.857008   \n",
       "4802    1.929883   \n",
       "\n",
       "                                                                                production_companies  \\\n",
       "4801                                                                                              []   \n",
       "4802  [{\"name\": \"rusty bear entertainment\", \"id\": 87986}, {\"name\": \"lucky crow films\", \"id\": 87987}]   \n",
       "\n",
       "                                                                                   production_countries  \\\n",
       "4801  [{\"iso_3166_1\": \"US\", \"name\": \"United States of America\"}, {\"iso_3166_1\": \"CN\", \"name\": \"China\"}]   \n",
       "4802                                         [{\"iso_3166_1\": \"US\", \"name\": \"United States of America\"}]   \n",
       "\n",
       "     release_date  revenue  runtime                          spoken_languages  \\\n",
       "4801   2012-05-03        0     98.0  [{\"iso_639_1\": \"en\", \"name\": \"English\"}]   \n",
       "4802   2005-08-05        0     90.0  [{\"iso_639_1\": \"en\", \"name\": \"English\"}]   \n",
       "\n",
       "        status                   tagline              title  vote_average  \\\n",
       "4801  Released  A New Yorker in Shanghai   Shanghai Calling           5.7   \n",
       "4802  Released                       NaN  My Date with Drew           6.3   \n",
       "\n",
       "      vote_count  \n",
       "4801           7  \n",
       "4802          16  "
      ]
     },
     "execution_count": 5,
     "metadata": {},
     "output_type": "execute_result"
    }
   ],
   "source": [
    "# View one record to understand its format\n",
    "df.tail(2)"
   ]
  },
  {
   "cell_type": "code",
   "execution_count": 6,
   "id": "7a9d8d31-ba40-42f4-8bdd-0c11ebee14b8",
   "metadata": {
    "jupyter": {
     "source_hidden": true
    }
   },
   "outputs": [
    {
     "name": "stdout",
     "output_type": "stream",
     "text": [
      "<class 'pandas.core.frame.DataFrame'>\n",
      "RangeIndex: 4803 entries, 0 to 4802\n",
      "Data columns (total 20 columns):\n",
      " #   Column                Non-Null Count  Dtype  \n",
      "---  ------                --------------  -----  \n",
      " 0   budget                4803 non-null   int64  \n",
      " 1   genres                4803 non-null   object \n",
      " 2   homepage              1712 non-null   object \n",
      " 3   id                    4803 non-null   int64  \n",
      " 4   keywords              4803 non-null   object \n",
      " 5   original_language     4803 non-null   object \n",
      " 6   original_title        4803 non-null   object \n",
      " 7   overview              4800 non-null   object \n",
      " 8   popularity            4803 non-null   float64\n",
      " 9   production_companies  4803 non-null   object \n",
      " 10  production_countries  4803 non-null   object \n",
      " 11  release_date          4802 non-null   object \n",
      " 12  revenue               4803 non-null   int64  \n",
      " 13  runtime               4801 non-null   float64\n",
      " 14  spoken_languages      4803 non-null   object \n",
      " 15  status                4803 non-null   object \n",
      " 16  tagline               3959 non-null   object \n",
      " 17  title                 4803 non-null   object \n",
      " 18  vote_average          4803 non-null   float64\n",
      " 19  vote_count            4803 non-null   int64  \n",
      "dtypes: float64(3), int64(4), object(13)\n",
      "memory usage: 750.6+ KB\n"
     ]
    }
   ],
   "source": [
    "# Look at column names, data types and non-null counts\n",
    "df.info()"
   ]
  },
  {
   "cell_type": "code",
   "execution_count": 7,
   "id": "c491bbdc-1bbb-4ff7-ab50-043d1b2032dc",
   "metadata": {
    "jupyter": {
     "source_hidden": true
    }
   },
   "outputs": [
    {
     "data": {
      "text/html": [
       "<div>\n",
       "<style scoped>\n",
       "    .dataframe tbody tr th:only-of-type {\n",
       "        vertical-align: middle;\n",
       "    }\n",
       "\n",
       "    .dataframe tbody tr th {\n",
       "        vertical-align: top;\n",
       "    }\n",
       "\n",
       "    .dataframe thead th {\n",
       "        text-align: right;\n",
       "    }\n",
       "</style>\n",
       "<table border=\"1\" class=\"dataframe\">\n",
       "  <thead>\n",
       "    <tr style=\"text-align: right;\">\n",
       "      <th></th>\n",
       "      <th>budget</th>\n",
       "      <th>id</th>\n",
       "      <th>popularity</th>\n",
       "      <th>revenue</th>\n",
       "      <th>runtime</th>\n",
       "      <th>vote_average</th>\n",
       "      <th>vote_count</th>\n",
       "    </tr>\n",
       "  </thead>\n",
       "  <tbody>\n",
       "    <tr>\n",
       "      <th>count</th>\n",
       "      <td>4.803000e+03</td>\n",
       "      <td>4803.000000</td>\n",
       "      <td>4803.000000</td>\n",
       "      <td>4.803000e+03</td>\n",
       "      <td>4801.000000</td>\n",
       "      <td>4803.000000</td>\n",
       "      <td>4803.000000</td>\n",
       "    </tr>\n",
       "    <tr>\n",
       "      <th>mean</th>\n",
       "      <td>2.904504e+07</td>\n",
       "      <td>57165.484281</td>\n",
       "      <td>21.492301</td>\n",
       "      <td>8.226064e+07</td>\n",
       "      <td>106.875859</td>\n",
       "      <td>6.092172</td>\n",
       "      <td>690.217989</td>\n",
       "    </tr>\n",
       "    <tr>\n",
       "      <th>std</th>\n",
       "      <td>4.072239e+07</td>\n",
       "      <td>88694.614033</td>\n",
       "      <td>31.816650</td>\n",
       "      <td>1.628571e+08</td>\n",
       "      <td>22.611935</td>\n",
       "      <td>1.194612</td>\n",
       "      <td>1234.585891</td>\n",
       "    </tr>\n",
       "    <tr>\n",
       "      <th>min</th>\n",
       "      <td>0.000000e+00</td>\n",
       "      <td>5.000000</td>\n",
       "      <td>0.000000</td>\n",
       "      <td>0.000000e+00</td>\n",
       "      <td>0.000000</td>\n",
       "      <td>0.000000</td>\n",
       "      <td>0.000000</td>\n",
       "    </tr>\n",
       "    <tr>\n",
       "      <th>25%</th>\n",
       "      <td>7.900000e+05</td>\n",
       "      <td>9014.500000</td>\n",
       "      <td>4.668070</td>\n",
       "      <td>0.000000e+00</td>\n",
       "      <td>94.000000</td>\n",
       "      <td>5.600000</td>\n",
       "      <td>54.000000</td>\n",
       "    </tr>\n",
       "    <tr>\n",
       "      <th>50%</th>\n",
       "      <td>1.500000e+07</td>\n",
       "      <td>14629.000000</td>\n",
       "      <td>12.921594</td>\n",
       "      <td>1.917000e+07</td>\n",
       "      <td>103.000000</td>\n",
       "      <td>6.200000</td>\n",
       "      <td>235.000000</td>\n",
       "    </tr>\n",
       "    <tr>\n",
       "      <th>75%</th>\n",
       "      <td>4.000000e+07</td>\n",
       "      <td>58610.500000</td>\n",
       "      <td>28.313505</td>\n",
       "      <td>9.291719e+07</td>\n",
       "      <td>118.000000</td>\n",
       "      <td>6.800000</td>\n",
       "      <td>737.000000</td>\n",
       "    </tr>\n",
       "    <tr>\n",
       "      <th>max</th>\n",
       "      <td>3.800000e+08</td>\n",
       "      <td>459488.000000</td>\n",
       "      <td>875.581305</td>\n",
       "      <td>2.787965e+09</td>\n",
       "      <td>338.000000</td>\n",
       "      <td>10.000000</td>\n",
       "      <td>13752.000000</td>\n",
       "    </tr>\n",
       "  </tbody>\n",
       "</table>\n",
       "</div>"
      ],
      "text/plain": [
       "             budget             id   popularity       revenue      runtime  \\\n",
       "count  4.803000e+03    4803.000000  4803.000000  4.803000e+03  4801.000000   \n",
       "mean   2.904504e+07   57165.484281    21.492301  8.226064e+07   106.875859   \n",
       "std    4.072239e+07   88694.614033    31.816650  1.628571e+08    22.611935   \n",
       "min    0.000000e+00       5.000000     0.000000  0.000000e+00     0.000000   \n",
       "25%    7.900000e+05    9014.500000     4.668070  0.000000e+00    94.000000   \n",
       "50%    1.500000e+07   14629.000000    12.921594  1.917000e+07   103.000000   \n",
       "75%    4.000000e+07   58610.500000    28.313505  9.291719e+07   118.000000   \n",
       "max    3.800000e+08  459488.000000   875.581305  2.787965e+09   338.000000   \n",
       "\n",
       "       vote_average    vote_count  \n",
       "count   4803.000000   4803.000000  \n",
       "mean       6.092172    690.217989  \n",
       "std        1.194612   1234.585891  \n",
       "min        0.000000      0.000000  \n",
       "25%        5.600000     54.000000  \n",
       "50%        6.200000    235.000000  \n",
       "75%        6.800000    737.000000  \n",
       "max       10.000000  13752.000000  "
      ]
     },
     "execution_count": 7,
     "metadata": {},
     "output_type": "execute_result"
    }
   ],
   "source": [
    "# Look at statistics of numerical columns\n",
    "df.describe()"
   ]
  },
  {
   "cell_type": "code",
   "execution_count": 8,
   "id": "a4ff021b-8539-4e35-b7aa-15160685c86e",
   "metadata": {
    "jupyter": {
     "source_hidden": true
    }
   },
   "outputs": [
    {
     "name": "stdout",
     "output_type": "stream",
     "text": [
      "Duplicate rows: 0\n"
     ]
    }
   ],
   "source": [
    "print(f\"Duplicate rows: {df.duplicated().sum()}\")"
   ]
  },
  {
   "cell_type": "code",
   "execution_count": 9,
   "id": "38ee00a3-e245-4633-b954-298e7f59abab",
   "metadata": {
    "jupyter": {
     "source_hidden": true
    }
   },
   "outputs": [
    {
     "name": "stdout",
     "output_type": "stream",
     "text": [
      "Num. of missing values found per feature:\n"
     ]
    },
    {
     "data": {
      "text/plain": [
       "budget                     0\n",
       "genres                     0\n",
       "homepage                3091\n",
       "id                         0\n",
       "keywords                   0\n",
       "original_language          0\n",
       "original_title             0\n",
       "overview                   3\n",
       "popularity                 0\n",
       "production_companies       0\n",
       "production_countries       0\n",
       "release_date               1\n",
       "revenue                    0\n",
       "runtime                    2\n",
       "spoken_languages           0\n",
       "status                     0\n",
       "tagline                  844\n",
       "title                      0\n",
       "vote_average               0\n",
       "vote_count                 0\n",
       "dtype: int64"
      ]
     },
     "execution_count": 9,
     "metadata": {},
     "output_type": "execute_result"
    }
   ],
   "source": [
    "print(\"Num. of missing values found per feature:\")\n",
    "df.isnull().sum()"
   ]
  },
  {
   "cell_type": "code",
   "execution_count": 10,
   "id": "7821ba9e-2f1f-4e99-a227-c8df88c6dbae",
   "metadata": {
    "jupyter": {
     "source_hidden": true
    }
   },
   "outputs": [
    {
     "name": "stdout",
     "output_type": "stream",
     "text": [
      "Num. of unique values found per feature:\n"
     ]
    },
    {
     "data": {
      "text/plain": [
       "status                     3\n",
       "original_language         37\n",
       "vote_average              71\n",
       "runtime                  156\n",
       "budget                   436\n",
       "production_countries     469\n",
       "spoken_languages         544\n",
       "genres                  1175\n",
       "vote_count              1609\n",
       "homepage                1691\n",
       "release_date            3280\n",
       "revenue                 3297\n",
       "production_companies    3697\n",
       "tagline                 3944\n",
       "keywords                4222\n",
       "overview                4800\n",
       "title                   4800\n",
       "original_title          4801\n",
       "popularity              4802\n",
       "id                      4803\n",
       "dtype: int64"
      ]
     },
     "execution_count": 10,
     "metadata": {},
     "output_type": "execute_result"
    }
   ],
   "source": [
    "print(\"Num. of unique values found per feature:\")\n",
    "df.nunique().sort_values()"
   ]
  },
  {
   "cell_type": "markdown",
   "id": "aedc5624-22ff-4ca4-9eee-2557315a3b40",
   "metadata": {
    "jp-MarkdownHeadingCollapsed": true
   },
   "source": [
    "### Summary of 1.1 First Look\n",
    "\n",
    "Some interesting data format in these features:\n",
    "* `genre`, `keywords`: consist of one or multiple key-value pairs with keys `id`,`name`.\n",
    "* `production_companies`: consist of one or multiple key-value pairs with keys `id`,`name`.\n",
    "* `production_countries`: consist of one of multiple key-value pairs with keys `iso_3166_1`,`name`. [ISO 3166-1](https://en.wikipedia.org/wiki/ISO_3166-1) is an international standard to define country code, the 2-letter country code is used here.\n",
    "* `spoken_languages`: consist of multiple key-value pairs with keys `iso_639_1`,`name`.[ISO 639-1](https://en.wikipedia.org/wiki/ISO_639-1#:~:text=ISO%20639%2D1%3A2002%2C,registered%20as%20of%20June%202021.) is a 2-letter code used in international standards for defining languages.\n",
    "* **Note**: There are empty lists in these features!\n",
    "\n",
    "**Duplicate records**:\n",
    "* None found.\n",
    "  \n",
    "**Missing data**:\n",
    "* Found at `homepage`, `overview`, `release_date`, `runtime`, `tagline`.\n",
    "\n",
    "**Erroneous data entry**:\n",
    "* Some records contain zero values for `budget`, `runtime`, which doesn't seem likely since you'll need some budget to make a movie and a movie shouldn't have zero runtime!\n",
    "* **Note** that I did not find zero values strange for `popularity`, `revenue`, `vote_count` and `vote_average` since all these are likely to happen: A movie did not make any money, is super unpopular and/or nobody voted for it.\n",
    "\n",
    "**Categorical features**:\n",
    "* So far we have identified `status` and `original_language`, there could be more once some feature engineering is done for those features with interesting data formats!"
   ]
  },
  {
   "cell_type": "markdown",
   "id": "7ff0931d-efaa-4c7d-be9b-7c7fc5c2b6c7",
   "metadata": {
    "jp-MarkdownHeadingCollapsed": true
   },
   "source": [
    "### 1.2 Data Cleaning and Transformation\n",
    "* Drop columns with missing values in `homepage`, `overview`, `tagline` since I don't plan to use them for analysis.\n",
    "* Drop rows with missing values in `release_date`, `runtime` since I wouldn't be able to analyse these rows.\n",
    "* Transform `release_date` from `object` to `datetime` data type.\n",
    "* Extract list of data from `genre`, `production_companies`, `production_countries`, `spoken_languages`. "
   ]
  },
  {
   "cell_type": "code",
   "execution_count": 11,
   "id": "940a9417-b238-4271-ac0a-e9ef23a28b07",
   "metadata": {
    "jupyter": {
     "source_hidden": true
    }
   },
   "outputs": [],
   "source": [
    "def count_na_rows(df):\n",
    "    '''\n",
    "    count the maximum numbers of rows with any missing value\n",
    "    '''\n",
    "    print(f\"Total rows containing missing values: {df[df.isnull().any(axis=1)].count().max()}\")\n",
    "    print(f\"Current TMDB dataset total rows: {df.shape[0]}\")"
   ]
  },
  {
   "cell_type": "code",
   "execution_count": 12,
   "id": "87742212-b872-4e84-b056-2b69b128dfed",
   "metadata": {
    "jupyter": {
     "source_hidden": true
    }
   },
   "outputs": [
    {
     "name": "stdout",
     "output_type": "stream",
     "text": [
      "Before dropping homepage, overview, tagline,\n",
      "Total rows containing missing values: 3310\n",
      "Current TMDB dataset total rows: 4803\n"
     ]
    }
   ],
   "source": [
    "print(\"Before dropping homepage, overview, tagline,\")\n",
    "count_na_rows(df)"
   ]
  },
  {
   "cell_type": "code",
   "execution_count": 13,
   "id": "f9c7f3d6-3b70-48f9-8138-9b384d3732b4",
   "metadata": {
    "jupyter": {
     "source_hidden": true
    }
   },
   "outputs": [
    {
     "name": "stdout",
     "output_type": "stream",
     "text": [
      "After dropping homepage, overview, tagline,\n",
      "Total rows containing missing values: 3\n",
      "Current TMDB dataset total rows: 4803\n"
     ]
    }
   ],
   "source": [
    "df = df.drop(['homepage', 'overview', 'tagline'], axis=1)\n",
    "print(\"After dropping homepage, overview, tagline,\")\n",
    "count_na_rows(df)"
   ]
  },
  {
   "cell_type": "code",
   "execution_count": 14,
   "id": "e03ae65e-0923-46a3-a927-64876c3c7d40",
   "metadata": {
    "jupyter": {
     "source_hidden": true
    }
   },
   "outputs": [
    {
     "name": "stdout",
     "output_type": "stream",
     "text": [
      "After dropping any rows containing missing values,\n",
      "Total rows containing missing values: 0\n",
      "Current TMDB dataset total rows: 4800\n"
     ]
    }
   ],
   "source": [
    "# drop any rows containing missing values\n",
    "df = df.dropna(axis=0, how='any')\n",
    "print(\"After dropping any rows containing missing values,\")\n",
    "count_na_rows(df)"
   ]
  },
  {
   "cell_type": "code",
   "execution_count": 15,
   "id": "2859bb5d-2915-4a79-a8bb-110375b83004",
   "metadata": {
    "jupyter": {
     "source_hidden": true
    }
   },
   "outputs": [
    {
     "name": "stdout",
     "output_type": "stream",
     "text": [
      "Dataset contain movies from year 1916 to 2017.\n"
     ]
    }
   ],
   "source": [
    "df['release_date'] = pd.to_datetime(df['release_date'])\n",
    "print(f\"Dataset contain movies from year {df['release_date'].dt.year.min()} to {df['release_date'].dt.year.max()}.\")"
   ]
  },
  {
   "cell_type": "code",
   "execution_count": 16,
   "id": "78e266c1-e652-43e0-8c9e-086b534187a5",
   "metadata": {
    "jupyter": {
     "source_hidden": true
    }
   },
   "outputs": [],
   "source": [
    "def get_values(s, key):\n",
    "    '''\n",
    "    convert string of list of dictionaries into list of dictionaries,\n",
    "    and extract values using provided key  \n",
    "    returns a list of values\n",
    "    '''\n",
    "    values_list = [kv_pairs[key].lower() for kv_pairs in ast.literal_eval(s)]\n",
    "    return values_list"
   ]
  },
  {
   "cell_type": "code",
   "execution_count": 17,
   "id": "a73bcf05-3b99-4906-9b73-c80fc5330ba6",
   "metadata": {
    "jupyter": {
     "source_hidden": true
    }
   },
   "outputs": [],
   "source": [
    "df['genres'] = df['genres'].map(lambda x: get_values(x, \"name\"))\n",
    "df['production_companies'] = df['production_companies'].map(lambda x: get_values(x, \"name\"))\n",
    "df['production_countries'] = df['production_countries'].map(lambda x: get_values(x, \"iso_3166_1\"))\n",
    "df['spoken_languages'] = df['spoken_languages'].map(lambda x: get_values(x, \"iso_639_1\"))\n",
    "df['keywords'] = df['keywords'].map(lambda x: get_values(x, \"name\"))"
   ]
  },
  {
   "cell_type": "code",
   "execution_count": 18,
   "id": "437319ee-8547-496e-8dc2-ef94f9d91a79",
   "metadata": {
    "jupyter": {
     "source_hidden": true
    }
   },
   "outputs": [
    {
     "data": {
      "text/html": [
       "<div>\n",
       "<style scoped>\n",
       "    .dataframe tbody tr th:only-of-type {\n",
       "        vertical-align: middle;\n",
       "    }\n",
       "\n",
       "    .dataframe tbody tr th {\n",
       "        vertical-align: top;\n",
       "    }\n",
       "\n",
       "    .dataframe thead th {\n",
       "        text-align: right;\n",
       "    }\n",
       "</style>\n",
       "<table border=\"1\" class=\"dataframe\">\n",
       "  <thead>\n",
       "    <tr style=\"text-align: right;\">\n",
       "      <th></th>\n",
       "      <th>budget</th>\n",
       "      <th>genres</th>\n",
       "      <th>id</th>\n",
       "      <th>keywords</th>\n",
       "      <th>original_language</th>\n",
       "      <th>original_title</th>\n",
       "      <th>popularity</th>\n",
       "      <th>production_companies</th>\n",
       "      <th>production_countries</th>\n",
       "      <th>release_date</th>\n",
       "      <th>revenue</th>\n",
       "      <th>runtime</th>\n",
       "      <th>spoken_languages</th>\n",
       "      <th>status</th>\n",
       "      <th>title</th>\n",
       "      <th>vote_average</th>\n",
       "      <th>vote_count</th>\n",
       "    </tr>\n",
       "  </thead>\n",
       "  <tbody>\n",
       "    <tr>\n",
       "      <th>4798</th>\n",
       "      <td>0</td>\n",
       "      <td>[]</td>\n",
       "      <td>126186</td>\n",
       "      <td>[]</td>\n",
       "      <td>en</td>\n",
       "      <td>Shanghai Calling</td>\n",
       "      <td>0.857008</td>\n",
       "      <td>[]</td>\n",
       "      <td>[us, cn]</td>\n",
       "      <td>2012-05-03</td>\n",
       "      <td>0</td>\n",
       "      <td>98.0</td>\n",
       "      <td>[en]</td>\n",
       "      <td>Released</td>\n",
       "      <td>Shanghai Calling</td>\n",
       "      <td>5.7</td>\n",
       "      <td>7</td>\n",
       "    </tr>\n",
       "    <tr>\n",
       "      <th>4799</th>\n",
       "      <td>0</td>\n",
       "      <td>[documentary]</td>\n",
       "      <td>25975</td>\n",
       "      <td>[obsession, camcorder, crush, dream girl]</td>\n",
       "      <td>en</td>\n",
       "      <td>My Date with Drew</td>\n",
       "      <td>1.929883</td>\n",
       "      <td>[rusty bear entertainment, lucky crow films]</td>\n",
       "      <td>[us]</td>\n",
       "      <td>2005-08-05</td>\n",
       "      <td>0</td>\n",
       "      <td>90.0</td>\n",
       "      <td>[en]</td>\n",
       "      <td>Released</td>\n",
       "      <td>My Date with Drew</td>\n",
       "      <td>6.3</td>\n",
       "      <td>16</td>\n",
       "    </tr>\n",
       "  </tbody>\n",
       "</table>\n",
       "</div>"
      ],
      "text/plain": [
       "      budget         genres      id  \\\n",
       "4798       0             []  126186   \n",
       "4799       0  [documentary]   25975   \n",
       "\n",
       "                                       keywords original_language  \\\n",
       "4798                                         []                en   \n",
       "4799  [obsession, camcorder, crush, dream girl]                en   \n",
       "\n",
       "         original_title  popularity  \\\n",
       "4798   Shanghai Calling    0.857008   \n",
       "4799  My Date with Drew    1.929883   \n",
       "\n",
       "                              production_companies production_countries  \\\n",
       "4798                                            []             [us, cn]   \n",
       "4799  [rusty bear entertainment, lucky crow films]                 [us]   \n",
       "\n",
       "     release_date  revenue  runtime spoken_languages    status  \\\n",
       "4798   2012-05-03        0     98.0             [en]  Released   \n",
       "4799   2005-08-05        0     90.0             [en]  Released   \n",
       "\n",
       "                  title  vote_average  vote_count  \n",
       "4798   Shanghai Calling           5.7           7  \n",
       "4799  My Date with Drew           6.3          16  "
      ]
     },
     "execution_count": 18,
     "metadata": {},
     "output_type": "execute_result"
    }
   ],
   "source": [
    "df = df.reset_index(drop=True)\n",
    "df.tail(2)"
   ]
  },
  {
   "cell_type": "markdown",
   "id": "f1713765-dd1e-406b-aa6d-7aa28e7a2011",
   "metadata": {
    "jp-MarkdownHeadingCollapsed": true
   },
   "source": [
    "### 1.3 Feature Engineering\n",
    "* Get `release_year` and `movie_era` from `release_date`.\n",
    "* Split up data into subsets by goal for separate analysis:\n",
    "    * Goal: How movie genre popularity changed throughout the eras.\n",
    "    * Goal: Movie statistics throughout the eras. "
   ]
  },
  {
   "cell_type": "code",
   "execution_count": 19,
   "id": "9357a853-267b-46af-bd72-be769c42bdec",
   "metadata": {
    "jupyter": {
     "source_hidden": true
    }
   },
   "outputs": [],
   "source": [
    "def get_era(year):\n",
    "    '''\n",
    "    returns the movie era by year\n",
    "    '''\n",
    "    if year <= 1910:\n",
    "        return \"Pioneer Era\"\n",
    "    elif (year >= 1911) & (year <= 1926):\n",
    "        return \"Silent Era\"\n",
    "    elif (year >= 1927) & (year <= 1940):\n",
    "        return \"The Talkies\"\n",
    "    elif (year >= 1941) & (year <= 1954):\n",
    "        return \"The Golden Era\"\n",
    "    elif (year >= 1955) & (year <= 1976):\n",
    "        return \"The Change\"\n",
    "    elif (year >= 1977) & (year <= 1999):\n",
    "        return \"Dawn of Modern Era\"\n",
    "    else:\n",
    "        return \"New Millenium Era\""
   ]
  },
  {
   "cell_type": "code",
   "execution_count": 20,
   "id": "77e9a95c-a779-4380-8b80-f937e131ddc6",
   "metadata": {
    "jupyter": {
     "source_hidden": true
    }
   },
   "outputs": [],
   "source": [
    "df['release_year'] = df['release_date'].dt.year\n",
    "df['movie_era'] = df['release_year'].map(get_era)"
   ]
  },
  {
   "cell_type": "markdown",
   "id": "e4cc2286-12dc-405c-bec2-928630feebfc",
   "metadata": {},
   "source": [
    "Get a data subset `df_genre` for analysis on how movie genre popularity changed throughout the eras, and create multiple rows of movie-single genre. For those without genre, set `genre` as `unknown`"
   ]
  },
  {
   "cell_type": "code",
   "execution_count": 21,
   "id": "4242fc52-c981-4554-8975-dce85bec3362",
   "metadata": {
    "jupyter": {
     "source_hidden": true
    }
   },
   "outputs": [
    {
     "data": {
      "text/html": [
       "<div>\n",
       "<style scoped>\n",
       "    .dataframe tbody tr th:only-of-type {\n",
       "        vertical-align: middle;\n",
       "    }\n",
       "\n",
       "    .dataframe tbody tr th {\n",
       "        vertical-align: top;\n",
       "    }\n",
       "\n",
       "    .dataframe thead th {\n",
       "        text-align: right;\n",
       "    }\n",
       "</style>\n",
       "<table border=\"1\" class=\"dataframe\">\n",
       "  <thead>\n",
       "    <tr style=\"text-align: right;\">\n",
       "      <th></th>\n",
       "      <th>id</th>\n",
       "      <th>original_title</th>\n",
       "      <th>genres</th>\n",
       "      <th>release_date</th>\n",
       "      <th>release_year</th>\n",
       "      <th>movie_era</th>\n",
       "      <th>popularity</th>\n",
       "      <th>vote_average</th>\n",
       "      <th>vote_count</th>\n",
       "    </tr>\n",
       "  </thead>\n",
       "  <tbody>\n",
       "    <tr>\n",
       "      <th>0</th>\n",
       "      <td>19995</td>\n",
       "      <td>Avatar</td>\n",
       "      <td>action</td>\n",
       "      <td>2009-12-10</td>\n",
       "      <td>2009</td>\n",
       "      <td>New Millenium Era</td>\n",
       "      <td>150.437577</td>\n",
       "      <td>7.2</td>\n",
       "      <td>11800</td>\n",
       "    </tr>\n",
       "    <tr>\n",
       "      <th>0</th>\n",
       "      <td>19995</td>\n",
       "      <td>Avatar</td>\n",
       "      <td>adventure</td>\n",
       "      <td>2009-12-10</td>\n",
       "      <td>2009</td>\n",
       "      <td>New Millenium Era</td>\n",
       "      <td>150.437577</td>\n",
       "      <td>7.2</td>\n",
       "      <td>11800</td>\n",
       "    </tr>\n",
       "    <tr>\n",
       "      <th>0</th>\n",
       "      <td>19995</td>\n",
       "      <td>Avatar</td>\n",
       "      <td>fantasy</td>\n",
       "      <td>2009-12-10</td>\n",
       "      <td>2009</td>\n",
       "      <td>New Millenium Era</td>\n",
       "      <td>150.437577</td>\n",
       "      <td>7.2</td>\n",
       "      <td>11800</td>\n",
       "    </tr>\n",
       "    <tr>\n",
       "      <th>0</th>\n",
       "      <td>19995</td>\n",
       "      <td>Avatar</td>\n",
       "      <td>science fiction</td>\n",
       "      <td>2009-12-10</td>\n",
       "      <td>2009</td>\n",
       "      <td>New Millenium Era</td>\n",
       "      <td>150.437577</td>\n",
       "      <td>7.2</td>\n",
       "      <td>11800</td>\n",
       "    </tr>\n",
       "    <tr>\n",
       "      <th>1</th>\n",
       "      <td>285</td>\n",
       "      <td>Pirates of the Caribbean: At World's End</td>\n",
       "      <td>adventure</td>\n",
       "      <td>2007-05-19</td>\n",
       "      <td>2007</td>\n",
       "      <td>New Millenium Era</td>\n",
       "      <td>139.082615</td>\n",
       "      <td>6.9</td>\n",
       "      <td>4500</td>\n",
       "    </tr>\n",
       "    <tr>\n",
       "      <th>...</th>\n",
       "      <td>...</td>\n",
       "      <td>...</td>\n",
       "      <td>...</td>\n",
       "      <td>...</td>\n",
       "      <td>...</td>\n",
       "      <td>...</td>\n",
       "      <td>...</td>\n",
       "      <td>...</td>\n",
       "      <td>...</td>\n",
       "    </tr>\n",
       "    <tr>\n",
       "      <th>4797</th>\n",
       "      <td>231617</td>\n",
       "      <td>Signed, Sealed, Delivered</td>\n",
       "      <td>drama</td>\n",
       "      <td>2013-10-13</td>\n",
       "      <td>2013</td>\n",
       "      <td>New Millenium Era</td>\n",
       "      <td>1.444476</td>\n",
       "      <td>7.0</td>\n",
       "      <td>6</td>\n",
       "    </tr>\n",
       "    <tr>\n",
       "      <th>4797</th>\n",
       "      <td>231617</td>\n",
       "      <td>Signed, Sealed, Delivered</td>\n",
       "      <td>romance</td>\n",
       "      <td>2013-10-13</td>\n",
       "      <td>2013</td>\n",
       "      <td>New Millenium Era</td>\n",
       "      <td>1.444476</td>\n",
       "      <td>7.0</td>\n",
       "      <td>6</td>\n",
       "    </tr>\n",
       "    <tr>\n",
       "      <th>4797</th>\n",
       "      <td>231617</td>\n",
       "      <td>Signed, Sealed, Delivered</td>\n",
       "      <td>tv movie</td>\n",
       "      <td>2013-10-13</td>\n",
       "      <td>2013</td>\n",
       "      <td>New Millenium Era</td>\n",
       "      <td>1.444476</td>\n",
       "      <td>7.0</td>\n",
       "      <td>6</td>\n",
       "    </tr>\n",
       "    <tr>\n",
       "      <th>4798</th>\n",
       "      <td>126186</td>\n",
       "      <td>Shanghai Calling</td>\n",
       "      <td>NaN</td>\n",
       "      <td>2012-05-03</td>\n",
       "      <td>2012</td>\n",
       "      <td>New Millenium Era</td>\n",
       "      <td>0.857008</td>\n",
       "      <td>5.7</td>\n",
       "      <td>7</td>\n",
       "    </tr>\n",
       "    <tr>\n",
       "      <th>4799</th>\n",
       "      <td>25975</td>\n",
       "      <td>My Date with Drew</td>\n",
       "      <td>documentary</td>\n",
       "      <td>2005-08-05</td>\n",
       "      <td>2005</td>\n",
       "      <td>New Millenium Era</td>\n",
       "      <td>1.929883</td>\n",
       "      <td>6.3</td>\n",
       "      <td>16</td>\n",
       "    </tr>\n",
       "  </tbody>\n",
       "</table>\n",
       "<p>12185 rows × 9 columns</p>\n",
       "</div>"
      ],
      "text/plain": [
       "          id                            original_title           genres  \\\n",
       "0      19995                                    Avatar           action   \n",
       "0      19995                                    Avatar        adventure   \n",
       "0      19995                                    Avatar          fantasy   \n",
       "0      19995                                    Avatar  science fiction   \n",
       "1        285  Pirates of the Caribbean: At World's End        adventure   \n",
       "...      ...                                       ...              ...   \n",
       "4797  231617                 Signed, Sealed, Delivered            drama   \n",
       "4797  231617                 Signed, Sealed, Delivered          romance   \n",
       "4797  231617                 Signed, Sealed, Delivered         tv movie   \n",
       "4798  126186                          Shanghai Calling              NaN   \n",
       "4799   25975                         My Date with Drew      documentary   \n",
       "\n",
       "     release_date  release_year          movie_era  popularity  vote_average  \\\n",
       "0      2009-12-10          2009  New Millenium Era  150.437577           7.2   \n",
       "0      2009-12-10          2009  New Millenium Era  150.437577           7.2   \n",
       "0      2009-12-10          2009  New Millenium Era  150.437577           7.2   \n",
       "0      2009-12-10          2009  New Millenium Era  150.437577           7.2   \n",
       "1      2007-05-19          2007  New Millenium Era  139.082615           6.9   \n",
       "...           ...           ...                ...         ...           ...   \n",
       "4797   2013-10-13          2013  New Millenium Era    1.444476           7.0   \n",
       "4797   2013-10-13          2013  New Millenium Era    1.444476           7.0   \n",
       "4797   2013-10-13          2013  New Millenium Era    1.444476           7.0   \n",
       "4798   2012-05-03          2012  New Millenium Era    0.857008           5.7   \n",
       "4799   2005-08-05          2005  New Millenium Era    1.929883           6.3   \n",
       "\n",
       "      vote_count  \n",
       "0          11800  \n",
       "0          11800  \n",
       "0          11800  \n",
       "0          11800  \n",
       "1           4500  \n",
       "...          ...  \n",
       "4797           6  \n",
       "4797           6  \n",
       "4797           6  \n",
       "4798           7  \n",
       "4799          16  \n",
       "\n",
       "[12185 rows x 9 columns]"
      ]
     },
     "execution_count": 21,
     "metadata": {},
     "output_type": "execute_result"
    }
   ],
   "source": [
    "df_genre = df[['id', 'original_title', 'genres', 'release_date', 'release_year', 'movie_era', 'popularity', 'vote_average', 'vote_count']]\n",
    "df_genre = df_genre.explode(column='genres')\n",
    "df_genre"
   ]
  },
  {
   "cell_type": "code",
   "execution_count": 22,
   "id": "f4fefaa5-9b9d-440f-9ece-7397be59050a",
   "metadata": {
    "jupyter": {
     "source_hidden": true
    }
   },
   "outputs": [
    {
     "name": "stdout",
     "output_type": "stream",
     "text": [
      "df_genre duplicate row count: 0\n",
      "df_genre missing values per feature:\n"
     ]
    },
    {
     "data": {
      "text/plain": [
       "id                 0\n",
       "original_title     0\n",
       "genres            27\n",
       "release_date       0\n",
       "release_year       0\n",
       "movie_era          0\n",
       "popularity         0\n",
       "vote_average       0\n",
       "vote_count         0\n",
       "dtype: int64"
      ]
     },
     "execution_count": 22,
     "metadata": {},
     "output_type": "execute_result"
    }
   ],
   "source": [
    "print(f\"df_genre duplicate row count: {df_genre.duplicated().sum()}\")\n",
    "print(\"df_genre missing values per feature:\")\n",
    "df_genre.isnull().sum()"
   ]
  },
  {
   "cell_type": "code",
   "execution_count": 23,
   "id": "96f8d2d1-b7f4-47da-9b2e-a640c02f274b",
   "metadata": {
    "jupyter": {
     "source_hidden": true
    }
   },
   "outputs": [],
   "source": [
    "df_genre['genres'] = df_genre['genres'].fillna(\"unknown\")"
   ]
  },
  {
   "cell_type": "markdown",
   "id": "6a0b390f-cb08-49db-b0ad-34d9fa4b7816",
   "metadata": {},
   "source": [
    "Get a data subset `df_stats` for analysis on how movie statistics changed throughout the eras."
   ]
  },
  {
   "cell_type": "code",
   "execution_count": 24,
   "id": "51ab4e9a-7f91-4578-b895-a9ccca1cbf9d",
   "metadata": {
    "jupyter": {
     "source_hidden": true
    }
   },
   "outputs": [
    {
     "name": "stdout",
     "output_type": "stream",
     "text": [
      "df_stats missing values per feature:\n"
     ]
    },
    {
     "data": {
      "text/plain": [
       "id                      0\n",
       "original_title          0\n",
       "release_year            0\n",
       "movie_era               0\n",
       "budget                  0\n",
       "revenue                 0\n",
       "runtime                 0\n",
       "production_countries    0\n",
       "production_companies    0\n",
       "spoken_languages        0\n",
       "gross_revenue           0\n",
       "revenue_million         0\n",
       "budget_million          0\n",
       "dtype: int64"
      ]
     },
     "execution_count": 24,
     "metadata": {},
     "output_type": "execute_result"
    }
   ],
   "source": [
    "df_stats = df[['id', 'original_title', 'release_year', 'movie_era', 'budget', 'revenue', 'runtime', 'production_countries',\n",
    "              'production_companies', 'spoken_languages']]\n",
    "df_stats['gross_revenue'] = df_stats['revenue'] - df_stats['budget']\n",
    "df_stats['revenue_million'] = df_stats['revenue'] / (10**6)\n",
    "df_stats['budget_million'] = df_stats['budget'] / (10**6)\n",
    "\n",
    "print(\"df_stats missing values per feature:\")\n",
    "df_stats.isnull().sum()"
   ]
  },
  {
   "cell_type": "code",
   "execution_count": 25,
   "id": "f8076cbf-4690-42a8-bace-74b447c7d427",
   "metadata": {
    "jupyter": {
     "source_hidden": true
    }
   },
   "outputs": [
    {
     "data": {
      "text/html": [
       "<div>\n",
       "<style scoped>\n",
       "    .dataframe tbody tr th:only-of-type {\n",
       "        vertical-align: middle;\n",
       "    }\n",
       "\n",
       "    .dataframe tbody tr th {\n",
       "        vertical-align: top;\n",
       "    }\n",
       "\n",
       "    .dataframe thead th {\n",
       "        text-align: right;\n",
       "    }\n",
       "</style>\n",
       "<table border=\"1\" class=\"dataframe\">\n",
       "  <thead>\n",
       "    <tr style=\"text-align: right;\">\n",
       "      <th></th>\n",
       "      <th>id</th>\n",
       "      <th>original_title</th>\n",
       "      <th>release_year</th>\n",
       "      <th>movie_era</th>\n",
       "      <th>budget</th>\n",
       "      <th>revenue</th>\n",
       "      <th>runtime</th>\n",
       "      <th>production_countries</th>\n",
       "      <th>production_companies</th>\n",
       "      <th>spoken_languages</th>\n",
       "      <th>gross_revenue</th>\n",
       "      <th>revenue_million</th>\n",
       "      <th>budget_million</th>\n",
       "    </tr>\n",
       "  </thead>\n",
       "  <tbody>\n",
       "    <tr>\n",
       "      <th>0</th>\n",
       "      <td>19995</td>\n",
       "      <td>Avatar</td>\n",
       "      <td>2009</td>\n",
       "      <td>New Millenium Era</td>\n",
       "      <td>237000000</td>\n",
       "      <td>2787965087</td>\n",
       "      <td>162.0</td>\n",
       "      <td>[us, gb]</td>\n",
       "      <td>[ingenious film partners, twentieth century fox film corporation, dune entertainment, lightstorm entertainment]</td>\n",
       "      <td>[en, es]</td>\n",
       "      <td>2550965087</td>\n",
       "      <td>2787.965087</td>\n",
       "      <td>237.0</td>\n",
       "    </tr>\n",
       "    <tr>\n",
       "      <th>1</th>\n",
       "      <td>285</td>\n",
       "      <td>Pirates of the Caribbean: At World's End</td>\n",
       "      <td>2007</td>\n",
       "      <td>New Millenium Era</td>\n",
       "      <td>300000000</td>\n",
       "      <td>961000000</td>\n",
       "      <td>169.0</td>\n",
       "      <td>[us]</td>\n",
       "      <td>[walt disney pictures, jerry bruckheimer films, second mate productions]</td>\n",
       "      <td>[en]</td>\n",
       "      <td>661000000</td>\n",
       "      <td>961.000000</td>\n",
       "      <td>300.0</td>\n",
       "    </tr>\n",
       "  </tbody>\n",
       "</table>\n",
       "</div>"
      ],
      "text/plain": [
       "      id                            original_title  release_year  \\\n",
       "0  19995                                    Avatar          2009   \n",
       "1    285  Pirates of the Caribbean: At World's End          2007   \n",
       "\n",
       "           movie_era     budget     revenue  runtime production_countries  \\\n",
       "0  New Millenium Era  237000000  2787965087    162.0             [us, gb]   \n",
       "1  New Millenium Era  300000000   961000000    169.0                 [us]   \n",
       "\n",
       "                                                                                              production_companies  \\\n",
       "0  [ingenious film partners, twentieth century fox film corporation, dune entertainment, lightstorm entertainment]   \n",
       "1                                         [walt disney pictures, jerry bruckheimer films, second mate productions]   \n",
       "\n",
       "  spoken_languages  gross_revenue  revenue_million  budget_million  \n",
       "0         [en, es]     2550965087      2787.965087           237.0  \n",
       "1             [en]      661000000       961.000000           300.0  "
      ]
     },
     "execution_count": 25,
     "metadata": {},
     "output_type": "execute_result"
    }
   ],
   "source": [
    "df_stats.head(2)"
   ]
  },
  {
   "cell_type": "markdown",
   "id": "5a0ce1dd-de98-4786-a81e-976e6007807a",
   "metadata": {},
   "source": [
    "## 2. Exploratory Data Analysis 🔎"
   ]
  },
  {
   "cell_type": "markdown",
   "id": "7617f854-06ad-49c8-ae3d-3f7a66a543b7",
   "metadata": {},
   "source": [
    "### 2.1 How movie genres have evolved throughout the eras?\n",
    "In a nutshell, movies evolution throughout the ages are defined by the following eras $^{[1]}$:\n",
    "* 1895 to 1910 - The Pioneer Era\n",
    "* 1911 to 1926 - The Silent Era\n",
    "* 1927 to 1940 - Talkies and the rise of the Hollywood studios\n",
    "* 1941 to 1954 - Golden Era of Film and restructuring of Hollywood\n",
    "* 1955 to 1976 – The Change\n",
    "* 1977 to 1999 – Dawn of the modern film industry and appearance of Blockbusters\n",
    "* 2000 and beyond – New millennium"
   ]
  },
  {
   "cell_type": "code",
   "execution_count": 26,
   "id": "34679fd1-e6fc-4c7f-ae6b-6a06cafbce5e",
   "metadata": {
    "jupyter": {
     "source_hidden": true
    }
   },
   "outputs": [
    {
     "data": {
      "text/plain": [
       "movie_era\n",
       "New Millenium Era     8737\n",
       "Dawn of Modern Era    2929\n",
       "The Change             371\n",
       "The Golden Era          83\n",
       "The Talkies             61\n",
       "Silent Era               4\n",
       "Name: count, dtype: int64"
      ]
     },
     "execution_count": 26,
     "metadata": {},
     "output_type": "execute_result"
    }
   ],
   "source": [
    "df_genre.movie_era.value_counts()"
   ]
  },
  {
   "cell_type": "markdown",
   "id": "061f0162-7fbf-4eb5-ab3b-6cd2a4f63743",
   "metadata": {},
   "source": [
    "**Notice that this dataset do not contain any movie information from the Pioneer Era.**"
   ]
  },
  {
   "cell_type": "code",
   "execution_count": 27,
   "id": "81f05a83-3ded-4e1f-a1e2-148e7fbda73f",
   "metadata": {
    "jupyter": {
     "source_hidden": true
    }
   },
   "outputs": [],
   "source": [
    "# define the movie evolution order by era from earliest to most recent, to be used in visualisation\n",
    "evolution = [\"Silent Era\", \"The Talkies\", \"The Golden Era\", \"The Change\", \"Dawn of Modern Era\", \"New Millenium Era\"]"
   ]
  },
  {
   "cell_type": "code",
   "execution_count": 28,
   "id": "44232b0f-55cd-4d67-a7ae-c7d6ae0ca46b",
   "metadata": {
    "jupyter": {
     "source_hidden": true
    }
   },
   "outputs": [
    {
     "data": {
      "image/png": "[encoded data removed]",
      "text/plain": [
       "<Figure size 640x480 with 1 Axes>"
      ]
     },
     "metadata": {},
     "output_type": "display_data"
    }
   ],
   "source": [
    "genre1 = df_genre.groupby(['movie_era', 'genres'])[['genres']].count()\n",
    "genre1 = genre1.rename({'genres':'movie_count'}, axis=1)\n",
    "genre1.reset_index(inplace=True)\n",
    "\n",
    "with sns.axes_style(\"ticks\"):\n",
    "    sns.countplot(data=genre1, \n",
    "                  y='movie_era', \n",
    "                  order=evolution, \n",
    "                  hue='movie_era', palette='magma')\n",
    "    sns.despine()\n",
    "    plt.xticks(np.arange(0, 22, 2))\n",
    "    plt.title(\"Number of movie genres across the eras\", fontsize=16, fontweight=\"bold\")\n",
    "    plt.ylabel(\"Movie Era\")\n",
    "    plt.xlabel(\"Number of movie genres\")\n",
    "    plt.tight_layout()\n",
    "    plt.show()"
   ]
  },
  {
   "cell_type": "code",
   "execution_count": 29,
   "id": "3448dd4f-6e3c-4f9f-9f47-64410d10452a",
   "metadata": {
    "jupyter": {
     "source_hidden": true
    }
   },
   "outputs": [
    {
     "data": {
      "image/png": "[encoded data removed]",
      "text/plain": [
       "<Figure size 1500x300 with 6 Axes>"
      ]
     },
     "metadata": {},
     "output_type": "display_data"
    }
   ],
   "source": [
    "fig, ax = plt.subplots(1, len(evolution), figsize=(15,3))\n",
    "fig.suptitle(\"Top three movie genres across the eras\", fontsize=20, fontweight=\"bold\")\n",
    "for i,era in enumerate(evolution):\n",
    "    data = genre1[genre1['movie_era'] == era].sort_values(by='movie_count', ascending=False)[:3]\n",
    "    sns.barplot(data=data, \n",
    "                x='genres', \n",
    "                y='movie_count',\n",
    "                hue='genres', palette='magma', ax=ax[i])\n",
    "    ax[i].set_title(era)\n",
    "    ax[i].set_xlabel(\"genre\")\n",
    "    ax[i].set_ylabel(\"Movie Genre Count\")\n",
    "plt.tight_layout()\n",
    "plt.show()"
   ]
  },
  {
   "cell_type": "markdown",
   "id": "e0757eea-8b23-4420-a954-8a5a63c88bd0",
   "metadata": {},
   "source": [
    "### 2.1 Movie genre evolution through the eras\n",
    "* Before dialogues are made possible in movies, there are only 3 genres during the Silent Era due to this limitation.\n",
    "* Thanks to the technological advancement since The Talkies era, dialogues can be included in movie production. This have caused a massive increase in movie genres.\n",
    "* Viewers of all eras love a good `Drama`. `Romance` used to be popular until the end of the Golden Era, but ever since CGI and special effects are getting popular in movie production, we saw genres such as `action` and `thriller` dominating the movie genres in the last 50 years."
   ]
  },
  {
   "cell_type": "markdown",
   "id": "eab0068b-f622-4f31-a8f0-1d3aad437385",
   "metadata": {},
   "source": [
    "### 2.2 Movie statistics throughout the eras\n",
    "How these numbers have changed through time:\n",
    "* Budget\n",
    "* Revenue\n",
    "* Runtime"
   ]
  },
  {
   "cell_type": "code",
   "execution_count": 30,
   "id": "820e5104-7727-4e76-8ad7-1eca9d545a12",
   "metadata": {
    "jupyter": {
     "source_hidden": true
    }
   },
   "outputs": [
    {
     "data": {
      "image/png": "[encoded data removed]",
      "text/plain": [
       "<Figure size 1000x400 with 2 Axes>"
      ]
     },
     "metadata": {},
     "output_type": "display_data"
    }
   ],
   "source": [
    "fig, ax = plt.subplots(1,2,figsize=(10,4), sharey=True)\n",
    "fig.suptitle(\"Movie Budgets across the Eras\", fontsize=16, fontweight=\"bold\")\n",
    "sns.boxplot(df_stats,  x='budget_million', y='movie_era', hue='movie_era',\n",
    "            order=evolution, showfliers=False, palette='autumn', ax=ax[0])\n",
    "sns.boxplot(df_stats,  x='budget_million', y='movie_era', hue='movie_era',\n",
    "            order=evolution, showfliers=True, palette='winter', ax=ax[1])\n",
    "ax[0].set_title(\"Without outliers\")\n",
    "ax[0].set_xlabel(\"Movie Budget (Million USD)\")\n",
    "ax[0].set_ylabel(\"Movie Era\")\n",
    "ax[1].set_title(\"With outliers\")\n",
    "ax[1].set_xlabel(\"Movie Budget (Million USD)\")\n",
    "\n",
    "plt.tight_layout()\n",
    "plt.show()"
   ]
  },
  {
   "cell_type": "code",
   "execution_count": 31,
   "id": "21b5d133-ca5e-40a8-b931-ff8c1c0a5504",
   "metadata": {
    "jupyter": {
     "source_hidden": true
    }
   },
   "outputs": [
    {
     "data": {
      "image/png": "[encoded data removed]",
      "text/plain": [
       "<Figure size 1000x400 with 2 Axes>"
      ]
     },
     "metadata": {},
     "output_type": "display_data"
    }
   ],
   "source": [
    "fig, ax = plt.subplots(1,2,figsize=(10,4), sharey=True)\n",
    "fig.suptitle(\"Movie Revenues across the Eras\", fontsize=16, fontweight=\"bold\")\n",
    "sns.boxplot(df_stats,  x='revenue_million', y='movie_era', hue='movie_era',\n",
    "            order=evolution, showfliers=False, palette='autumn', ax=ax[0])\n",
    "sns.boxplot(df_stats,  x='revenue_million', y='movie_era', hue='movie_era',\n",
    "            order=evolution, showfliers=True, palette='winter', ax=ax[1])\n",
    "ax[0].set_title(\"Without outliers\")\n",
    "ax[0].set_xlabel(\"Movie Revenue (Million USD)\")\n",
    "ax[0].set_ylabel(\"Movie Era\")\n",
    "ax[1].set_title(\"With outliers\")\n",
    "ax[1].set_xlabel(\"Movie Revenue (Million USD)\")\n",
    "\n",
    "plt.tight_layout()\n",
    "plt.show()"
   ]
  },
  {
   "cell_type": "code",
   "execution_count": 32,
   "id": "831537d5-8038-4320-975a-c95946280f2e",
   "metadata": {
    "jupyter": {
     "source_hidden": true
    }
   },
   "outputs": [
    {
     "data": {
      "image/png": "[encoded data removed]",
      "text/plain": [
       "<Figure size 1000x400 with 2 Axes>"
      ]
     },
     "metadata": {},
     "output_type": "display_data"
    }
   ],
   "source": [
    "fig, ax = plt.subplots(1,2,figsize=(10,4), sharey=True)\n",
    "fig.suptitle(\"Movie Runtime across the Eras\", fontsize=16, fontweight=\"bold\")\n",
    "sns.boxplot(df_stats,  x='runtime', y='movie_era', hue='movie_era',\n",
    "            order=evolution, showfliers=False, palette='spring', ax=ax[0])\n",
    "sns.boxplot(df_stats,  x='runtime', y='movie_era', hue='movie_era',\n",
    "            order=evolution, showfliers=True, palette='summer', ax=ax[1])\n",
    "ax[0].set_title(\"Without outliers\")\n",
    "ax[0].set_xlabel(\"Movie Runtime (minutes)\")\n",
    "ax[0].set_ylabel(\"Movie Era\")\n",
    "ax[1].set_title(\"With outliers\")\n",
    "ax[1].set_xlabel(\"Movie Runtime (minutes)\")\n",
    "\n",
    "plt.tight_layout()\n",
    "plt.show()"
   ]
  },
  {
   "cell_type": "markdown",
   "id": "d2f38dd9-5027-4b5b-8302-17ba3243ffc4",
   "metadata": {},
   "source": [
    "### 2.2 Movie Statistics throughout the eras\n",
    "**Budgets v.s. Revenues**\n",
    "* We saw a much larger spread in budget and revenue for the Modern Era and New Millenium Era compared to what was before, **why is that**?\n",
    "    * According to Investopedia$^{[2]}$, **majority of the costs goes to production costs**. Depending on the movie, post-production costs can be quite high as well. This is especially true with the movies with special effects and music production. The need to innovate begun in the Change Era as they need to compete with TV productions for ticket sales revenue.\n",
    "    * What's also interesting is **how the source of revenue have changed throughout the eras**. Up until the Golden Era, it was heavily reliant on ticket sales and TV isn't common amongst households. When TV becoming common, they started selling TV rights and tape releases. Merchandising became a new source of revenue since Star Wars$^{[3]}$ in the Dawn of Modern Era. Now, video-on-demand and streaming are also a source of revenue for these companies.\n",
    "\n",
    "**Runtime**  \n",
    "* If we ignore the outliers, the runtime spread actually became narrower over the eras.\n",
    "* Taking in the outliers, movies actually are getting longer, mostly due to the increase in special effects to produce a better storytelling experience. \n",
    "* The longest movie ever made in this dataset is as follow: "
   ]
  },
  {
   "cell_type": "code",
   "execution_count": 33,
   "id": "d7c6f935-598d-4ebd-8014-b78652a66503",
   "metadata": {
    "jupyter": {
     "source_hidden": true
    }
   },
   "outputs": [
    {
     "name": "stdout",
     "output_type": "stream",
     "text": [
      "Longest movie ever made:\n"
     ]
    },
    {
     "data": {
      "text/html": [
       "<div>\n",
       "<style scoped>\n",
       "    .dataframe tbody tr th:only-of-type {\n",
       "        vertical-align: middle;\n",
       "    }\n",
       "\n",
       "    .dataframe tbody tr th {\n",
       "        vertical-align: top;\n",
       "    }\n",
       "\n",
       "    .dataframe thead th {\n",
       "        text-align: right;\n",
       "    }\n",
       "</style>\n",
       "<table border=\"1\" class=\"dataframe\">\n",
       "  <thead>\n",
       "    <tr style=\"text-align: right;\">\n",
       "      <th></th>\n",
       "      <th>original_title</th>\n",
       "      <th>runtime</th>\n",
       "      <th>budget_million</th>\n",
       "      <th>revenue_million</th>\n",
       "      <th>gross_revenue</th>\n",
       "    </tr>\n",
       "  </thead>\n",
       "  <tbody>\n",
       "    <tr>\n",
       "      <th>2384</th>\n",
       "      <td>Carlos</td>\n",
       "      <td>338.0</td>\n",
       "      <td>18.0</td>\n",
       "      <td>0.871279</td>\n",
       "      <td>-17128721</td>\n",
       "    </tr>\n",
       "  </tbody>\n",
       "</table>\n",
       "</div>"
      ],
      "text/plain": [
       "     original_title  runtime  budget_million  revenue_million  gross_revenue\n",
       "2384         Carlos    338.0            18.0         0.871279      -17128721"
      ]
     },
     "execution_count": 33,
     "metadata": {},
     "output_type": "execute_result"
    }
   ],
   "source": [
    "print(\"Longest movie ever made:\")\n",
    "df_stats[df_stats.runtime == df_stats.runtime.max()][['original_title', 'runtime', 'budget_million', 'revenue_million', 'gross_revenue']]"
   ]
  },
  {
   "cell_type": "markdown",
   "id": "bccd624d-1f23-444f-a062-f41a0b25a7c1",
   "metadata": {},
   "source": [
    "### 2.3 Compare the 2 Highest Grossing movies.\n",
    "Gross revenue is the net revenue after minus budget from revenue."
   ]
  },
  {
   "cell_type": "code",
   "execution_count": 34,
   "id": "f4764b31-2327-4825-b5d7-163855068dc5",
   "metadata": {
    "jupyter": {
     "source_hidden": true
    }
   },
   "outputs": [
    {
     "data": {
      "text/html": [
       "<div>\n",
       "<style scoped>\n",
       "    .dataframe tbody tr th:only-of-type {\n",
       "        vertical-align: middle;\n",
       "    }\n",
       "\n",
       "    .dataframe tbody tr th {\n",
       "        vertical-align: top;\n",
       "    }\n",
       "\n",
       "    .dataframe thead th {\n",
       "        text-align: right;\n",
       "    }\n",
       "</style>\n",
       "<table border=\"1\" class=\"dataframe\">\n",
       "  <thead>\n",
       "    <tr style=\"text-align: right;\">\n",
       "      <th></th>\n",
       "      <th>id</th>\n",
       "      <th>original_title</th>\n",
       "      <th>release_year</th>\n",
       "      <th>movie_era</th>\n",
       "      <th>budget</th>\n",
       "      <th>revenue</th>\n",
       "      <th>runtime</th>\n",
       "      <th>production_countries</th>\n",
       "      <th>production_companies</th>\n",
       "      <th>spoken_languages</th>\n",
       "      <th>gross_revenue</th>\n",
       "      <th>revenue_million</th>\n",
       "      <th>budget_million</th>\n",
       "    </tr>\n",
       "  </thead>\n",
       "  <tbody>\n",
       "    <tr>\n",
       "      <th>0</th>\n",
       "      <td>19995</td>\n",
       "      <td>Avatar</td>\n",
       "      <td>2009</td>\n",
       "      <td>New Millenium Era</td>\n",
       "      <td>237000000</td>\n",
       "      <td>2787965087</td>\n",
       "      <td>162.0</td>\n",
       "      <td>[us, gb]</td>\n",
       "      <td>[ingenious film partners, twentieth century fox film corporation, dune entertainment, lightstorm entertainment]</td>\n",
       "      <td>[en, es]</td>\n",
       "      <td>2550965087</td>\n",
       "      <td>2787.965087</td>\n",
       "      <td>237.0</td>\n",
       "    </tr>\n",
       "    <tr>\n",
       "      <th>25</th>\n",
       "      <td>597</td>\n",
       "      <td>Titanic</td>\n",
       "      <td>1997</td>\n",
       "      <td>Dawn of Modern Era</td>\n",
       "      <td>200000000</td>\n",
       "      <td>1845034188</td>\n",
       "      <td>194.0</td>\n",
       "      <td>[us]</td>\n",
       "      <td>[paramount pictures, twentieth century fox film corporation, lightstorm entertainment]</td>\n",
       "      <td>[en, fr, de, sv, it, ru]</td>\n",
       "      <td>1645034188</td>\n",
       "      <td>1845.034188</td>\n",
       "      <td>200.0</td>\n",
       "    </tr>\n",
       "  </tbody>\n",
       "</table>\n",
       "</div>"
      ],
      "text/plain": [
       "       id original_title  release_year           movie_era     budget  \\\n",
       "0   19995         Avatar          2009   New Millenium Era  237000000   \n",
       "25    597        Titanic          1997  Dawn of Modern Era  200000000   \n",
       "\n",
       "       revenue  runtime production_countries  \\\n",
       "0   2787965087    162.0             [us, gb]   \n",
       "25  1845034188    194.0                 [us]   \n",
       "\n",
       "                                                                                               production_companies  \\\n",
       "0   [ingenious film partners, twentieth century fox film corporation, dune entertainment, lightstorm entertainment]   \n",
       "25                           [paramount pictures, twentieth century fox film corporation, lightstorm entertainment]   \n",
       "\n",
       "            spoken_languages  gross_revenue  revenue_million  budget_million  \n",
       "0                   [en, es]     2550965087      2787.965087           237.0  \n",
       "25  [en, fr, de, sv, it, ru]     1645034188      1845.034188           200.0  "
      ]
     },
     "execution_count": 34,
     "metadata": {},
     "output_type": "execute_result"
    }
   ],
   "source": [
    "df_stats.sort_values(by='gross_revenue', ascending=False)[:2]"
   ]
  },
  {
   "cell_type": "code",
   "execution_count": 35,
   "id": "6836b569-f47e-48d1-9114-2db89b6f6714",
   "metadata": {
    "jupyter": {
     "source_hidden": true
    }
   },
   "outputs": [
    {
     "data": {
      "text/html": [
       "<div>\n",
       "<style scoped>\n",
       "    .dataframe tbody tr th:only-of-type {\n",
       "        vertical-align: middle;\n",
       "    }\n",
       "\n",
       "    .dataframe tbody tr th {\n",
       "        vertical-align: top;\n",
       "    }\n",
       "\n",
       "    .dataframe thead th {\n",
       "        text-align: right;\n",
       "    }\n",
       "</style>\n",
       "<table border=\"1\" class=\"dataframe\">\n",
       "  <thead>\n",
       "    <tr style=\"text-align: right;\">\n",
       "      <th></th>\n",
       "      <th>id</th>\n",
       "      <th>original_title</th>\n",
       "      <th>release_year</th>\n",
       "      <th>movie_era</th>\n",
       "      <th>budget</th>\n",
       "      <th>revenue</th>\n",
       "      <th>runtime</th>\n",
       "      <th>production_countries</th>\n",
       "      <th>production_companies</th>\n",
       "      <th>spoken_languages</th>\n",
       "      <th>gross_revenue</th>\n",
       "      <th>revenue_million</th>\n",
       "      <th>budget_million</th>\n",
       "    </tr>\n",
       "  </thead>\n",
       "  <tbody>\n",
       "    <tr>\n",
       "      <th>0</th>\n",
       "      <td>19995</td>\n",
       "      <td>Avatar</td>\n",
       "      <td>2009</td>\n",
       "      <td>New Millenium Era</td>\n",
       "      <td>237000000</td>\n",
       "      <td>2787965087</td>\n",
       "      <td>162.0</td>\n",
       "      <td>[us, gb]</td>\n",
       "      <td>[ingenious film partners, twentieth century fox film corporation, dune entertainment, lightstorm entertainment]</td>\n",
       "      <td>[en, es]</td>\n",
       "      <td>2550965087</td>\n",
       "      <td>2787.965087</td>\n",
       "      <td>237.0</td>\n",
       "    </tr>\n",
       "    <tr>\n",
       "      <th>25</th>\n",
       "      <td>597</td>\n",
       "      <td>Titanic</td>\n",
       "      <td>1997</td>\n",
       "      <td>Dawn of Modern Era</td>\n",
       "      <td>200000000</td>\n",
       "      <td>1845034188</td>\n",
       "      <td>194.0</td>\n",
       "      <td>[us]</td>\n",
       "      <td>[paramount pictures, twentieth century fox film corporation, lightstorm entertainment]</td>\n",
       "      <td>[en, fr, de, sv, it, ru]</td>\n",
       "      <td>1645034188</td>\n",
       "      <td>1845.034188</td>\n",
       "      <td>200.0</td>\n",
       "    </tr>\n",
       "  </tbody>\n",
       "</table>\n",
       "</div>"
      ],
      "text/plain": [
       "       id original_title  release_year           movie_era     budget  \\\n",
       "0   19995         Avatar          2009   New Millenium Era  237000000   \n",
       "25    597        Titanic          1997  Dawn of Modern Era  200000000   \n",
       "\n",
       "       revenue  runtime production_countries  \\\n",
       "0   2787965087    162.0             [us, gb]   \n",
       "25  1845034188    194.0                 [us]   \n",
       "\n",
       "                                                                                               production_companies  \\\n",
       "0   [ingenious film partners, twentieth century fox film corporation, dune entertainment, lightstorm entertainment]   \n",
       "25                           [paramount pictures, twentieth century fox film corporation, lightstorm entertainment]   \n",
       "\n",
       "            spoken_languages  gross_revenue  revenue_million  budget_million  \n",
       "0                   [en, es]     2550965087      2787.965087           237.0  \n",
       "25  [en, fr, de, sv, it, ru]     1645034188      1845.034188           200.0  "
      ]
     },
     "execution_count": 35,
     "metadata": {},
     "output_type": "execute_result"
    }
   ],
   "source": [
    "df_stats.sort_values(by='revenue', ascending=False)[:2]"
   ]
  },
  {
   "cell_type": "code",
   "execution_count": 36,
   "id": "149fb8e3-7b4b-4c6f-8909-6833e0641b52",
   "metadata": {
    "jupyter": {
     "source_hidden": true
    }
   },
   "outputs": [
    {
     "data": {
      "text/plain": [
       "'action,adventure,fantasy,science fiction'"
      ]
     },
     "execution_count": 36,
     "metadata": {},
     "output_type": "execute_result"
    }
   ],
   "source": [
    "df_genre.loc[df_genre.id == 19995, 'genres'].str.cat(sep=',')"
   ]
  },
  {
   "cell_type": "code",
   "execution_count": 37,
   "id": "7a347131-5257-406a-9c5c-c873943d9def",
   "metadata": {
    "jupyter": {
     "source_hidden": true
    }
   },
   "outputs": [
    {
     "data": {
      "text/plain": [
       "'drama,romance,thriller'"
      ]
     },
     "execution_count": 37,
     "metadata": {},
     "output_type": "execute_result"
    }
   ],
   "source": [
    "df_genre.loc[df_genre.id == 597, 'genres'].str.cat(sep=',')"
   ]
  },
  {
   "cell_type": "markdown",
   "id": "40f51fe2-fe62-4492-9423-9711c3c8c450",
   "metadata": {},
   "source": [
    "### 2.3 Compare the 2 Highest Grossing movies.\n",
    "\n",
    "The 2 Highest Grossing movies are Avatar and Titanic.\n",
    "\n",
    "* **Similarities**:\n",
    "    * Both topped the 2 highest revenue and gross revenue.\n",
    "    * Both directed by James Cameron.\n",
    "    * Both produced by 20th Century Fox and Lighstorm Entertainment.\n",
    "    * Both used a ton of CGI in production.\n",
    "    * Both won `Best Visual Effects` and `Best Cinematography` at the Oscars.\n",
    "\n",
    "* **Differences**:\n",
    "    * Their movie genres do not overlap."
   ]
  },
  {
   "cell_type": "markdown",
   "id": "a4944d19-960a-4010-93f8-402cf52ae2be",
   "metadata": {},
   "source": [
    "## Summary ∑\n",
    "**The movie evolution are closely tied to the technology advancements**:\n",
    "* The ability to capture dialogues and sounds enriched the movie genres that could be produced.\n",
    "* The birth of TV pushed for innovation due to the need to out-compete TV productions.\n",
    "* Selling TV rights helped to retain classics on screen till date.\n",
    "* The use of CGI and special effects pushed for more budget in movie productions, and in turn, drew more viewers to cinemas with top notch sound systems and equipped with special viewing effects such as 3D movies and IMAX.\n",
    "* The internet killed the DVD businesses but brought in video-on-demand and streaming services."
   ]
  },
  {
   "cell_type": "markdown",
   "id": "276a9085-45e9-4ba0-8f62-385b754423ee",
   "metadata": {},
   "source": [
    "## References 📚\n",
    "* [1] History of Film.net: [Movie Eras - History of Cinema and the First Film](https://www.historyoffilm.net/movie-eras/history-of-cinema/)\n",
    "* [2] Investopedia:[Why Movies Cost So Much to Make](https://www.investopedia.com/financial-edge/0611/why-movies-cost-so-much-to-make.aspx#:~:text=Hollywood%20is%20a%20big%20business,and%20special%20effects%2C%20and%20marketing.)\n",
    "* [3] Investopedia: [How Exactly Do Movies Make Money?](https://www.investopedia.com/articles/investing/093015/how-exactly-do-movies-make-money.asp#:~:text=Ever%20since%20Star%20Wars%2C%20merchandising,of%20income%20for%20movie%20studios.)"
   ]
  },
  {
   "cell_type": "code",
   "execution_count": null,
   "id": "b8232a1a-0742-4c13-aa5f-68ae2cadcee2",
   "metadata": {},
   "outputs": [],
   "source": []
  }
 ],
 "metadata": {
  "kernelspec": {
   "display_name": "Python 3 (ipykernel)",
   "language": "python",
   "name": "python3"
  },
  "language_info": {
   "codemirror_mode": {
    "name": "ipython",
    "version": 3
   },
   "file_extension": ".py",
   "mimetype": "text/x-python",
   "name": "python",
   "nbconvert_exporter": "python",
   "pygments_lexer": "ipython3",
   "version": "3.11.5"
  }
 },
 "nbformat": 4,
 "nbformat_minor": 5
}
